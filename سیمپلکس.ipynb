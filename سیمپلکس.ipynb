{
 "cells": [
  {
   "cell_type": "code",
   "execution_count": null,
   "id": "e9f7a62b",
   "metadata": {},
   "outputs": [],
   "source": [
    "from scipy.optimize import linprog\n",
    "\n",
    "# مساله خطی نمونه با 10 متغیر تصمیم و 10 قید\n",
    "c = [3, 2, -5, 4, 1, 0, 0, 0, 0, 0]  # ضرایب تابع هدف\n",
    "A = [\n",
    "    [2, -1, 3, 1, 0, 0, 0, 0, 0, 0],\n",
    "    [1, 0, 2, 0, 1, 0, 0, 0, 0, 0],\n",
    "    [0, 2, -1, 0, 0, 1, 0, 0, 0, 0],\n",
    "    [-4, 3, 2, 0, 0, 0, 1, 0, 0, 0],\n",
    "    [0, 0, 0, 0, -1, -2, 0, 1, 0, 0],\n",
    "    [0, -1, 1, 0, 0, 0, 0, 0, 1, 0],\n",
    "    [1, 1, -4, 0, 0, 0, 0, 0, 0, 1]\n",
    "]  # ضرایب ماتریس قیدها\n",
    "b = [7, 4, 5, 3, -5, -1, 2]  # مقادیر سمت راست قیدها\n",
    "\n",
    "# محدودیت‌های متغیرها\n",
    "x_bounds = [(0, None)] * 10\n",
    "\n",
    "# حل مساله با استفاده از تابع linprog\n",
    "result = linprog(c, A_ub=A, b_ub=b, bounds=x_bounds, method='simplex')\n",
    "\n",
    "# نمایش نتیجه\n",
    "print(\"مقدار تابع هدف (حداکثر):\", -result.fun)\n",
    "print(\"مقادیر متغیرهای تصمیم:\")\n",
    "for i, val in enumerate(result.x):\n",
    "    print(f\"x{i + 1}: {val}\")\n"
   ]
  },
  {
   "cell_type": "code",
   "execution_count": null,
   "id": "448f394c",
   "metadata": {},
   "outputs": [],
   "source": []
  },
  {
   "cell_type": "markdown",
   "id": "c5af3fdc",
   "metadata": {},
   "source": []
  },
  {
   "cell_type": "code",
   "execution_count": null,
   "id": "49859da4",
   "metadata": {},
   "outputs": [],
   "source": []
  }
 ],
 "metadata": {
  "kernelspec": {
   "display_name": "Python 3 (ipykernel)",
   "language": "python",
   "name": "python3"
  },
  "language_info": {
   "codemirror_mode": {
    "name": "ipython",
    "version": 3
   },
   "file_extension": ".py",
   "mimetype": "text/x-python",
   "name": "python",
   "nbconvert_exporter": "python",
   "pygments_lexer": "ipython3",
   "version": "3.11.5"
  }
 },
 "nbformat": 4,
 "nbformat_minor": 5
}
